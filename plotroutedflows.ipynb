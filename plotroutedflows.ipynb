{
 "cells": [
  {
   "cell_type": "code",
   "execution_count": 1,
   "metadata": {},
   "outputs": [],
   "source": [
    "import sys\n",
    "import xarray as xr\n",
    "import glob, os\n",
    "import matplotlib.pyplot as plt\n",
    "import pandas as pd"
   ]
  },
  {
   "cell_type": "code",
   "execution_count": 2,
   "metadata": {},
   "outputs": [],
   "source": [
    "    outdir = '/glade/p/work/manab/SHARP/PNW_route/output/'\n",
    "    retrofile = '/glade/p/work/manab/SHARP/PNW_route/output/retro_routed.nc'\n",
    "    spinupfile = '/glade/p/work/manab/SHARP/PNW_route/output/spinup_routed.nc'\n",
    "    finalfile = 'retrospinup.nc'\n",
    "    sid = 17003601\n",
    "    timeslice = slice(1920,None)\n",
    "\n",
    "    # Concat retro and spinup simulations\n",
    "    #simlist = [retrofile,spinupfile]\n",
    "    #alldat = xr.open_mfdataset(simlist, concat_dim='time')\n",
    "    retro = xr.open_dataset('/glade/p/work/manab/SHARP/PNW_route/output/retro_routed.nc').set_index(sSeg = 'reachID')\n",
    "    spinup = xr.open_dataset('/glade/p/work/manab/SHARP/PNW_route/output/spinup_routed.nc').set_index(sSeg = 'reachID')\n",
    "\n",
    "    # Import forecast ensemble simulations\n",
    "    forecastlist = glob.glob((outdir+'*{}*.nc').format('forecast'))   # Find all forecast files\n",
    "    forecastlist = [x for x in forecastlist if \"state\" not in x] # Remove start files\n",
    "\n",
    "    #for x in range(0, len(forecastlist)):\n",
    "    #    ffile = os.path.splitext(os.path.basename(forecastlist[x]))[0]   #Get names of the forecast files\n",
    "    #    ffile = xr.open_dataset(forecastlist[x])\n",
    "\n",
    "    f0 = xr.open_dataset(forecastlist[0]).set_index(sSeg = 'reachID')\n",
    "    f1 = xr.open_dataset(forecastlist[1]).set_index(sSeg = 'reachID')\n",
    "    f2 = xr.open_dataset(forecastlist[2]).set_index(sSeg = 'reachID')\n",
    "    f3 = xr.open_dataset(forecastlist[3]).set_index(sSeg = 'reachID')\n",
    "    f4 = xr.open_dataset(forecastlist[4]).set_index(sSeg = 'reachID')\n",
    "    f5 = xr.open_dataset(forecastlist[5]).set_index(sSeg = 'reachID')\n",
    "    f6 = xr.open_dataset(forecastlist[6]).set_index(sSeg = 'reachID')\n",
    "    f7 = xr.open_dataset(forecastlist[7]).set_index(sSeg = 'reachID')\n",
    "    f8 = xr.open_dataset(forecastlist[8]).set_index(sSeg = 'reachID')\n",
    "    f9 = xr.open_dataset(forecastlist[9]).set_index(sSeg = 'reachID')\n",
    "    f10 = xr.open_dataset(forecastlist[10]).set_index(sSeg = 'reachID')\n",
    "    f11 = xr.open_dataset(forecastlist[11]).set_index(sSeg = 'reachID')"
   ]
  },
  {
   "cell_type": "code",
   "execution_count": 3,
   "metadata": {},
   "outputs": [
    {
     "data": {
      "text/plain": [
       "<xarray.Dataset>\n",
       "Dimensions:            (sSeg: 6386, sUps: 324772, time: 56)\n",
       "Coordinates:\n",
       "  * time               (time) datetime64[ns] 2017-11-27 2017-11-27T03:00:00 ...\n",
       "  * sSeg               (sSeg) int64 17906892 17906893 17906894 17906895 ...\n",
       "Dimensions without coordinates: sUps\n",
       "Data variables:\n",
       "    reachOrder         (sSeg) int32 ...\n",
       "    reachList          (sUps) int32 ...\n",
       "    listStart          (sSeg) int32 ...\n",
       "    listCount          (sSeg) int32 ...\n",
       "    basinArea          (sSeg) float64 ...\n",
       "    upstreamArea       (sSeg) float64 ...\n",
       "    instBasinRunoff    (time, sSeg) float64 ...\n",
       "    dlayBasinRunoff    (time, sSeg) float64 ...\n",
       "    sumUpstreamRunoff  (time, sSeg) float64 ...\n",
       "    KWTroutedRunoff    (time, sSeg) float64 ...\n",
       "    UpBasRoutedRunoff  (time, sSeg) float64 ...\n",
       "    IRFroutedRunoff    (time, sSeg) float64 ..."
      ]
     },
     "execution_count": 3,
     "metadata": {},
     "output_type": "execute_result"
    }
   ],
   "source": [
    "f11\n"
   ]
  },
  {
   "cell_type": "code",
   "execution_count": 4,
   "metadata": {},
   "outputs": [],
   "source": [
    "    o = pd.read_csv('/glade/p/work/manab/SHARP/data/dly/obsflow.dly.HHDW1.csv')\n",
    "    o['cfs']=o['cfs']*0.028316847\n",
    "    o=o.set_index(['Year'])\n",
    "    date = pd.date_range('1900-01-01', periods=42807, freq='D')\n",
    "    obs = o.to_xarray()\n",
    "    obs['Year']=date"
   ]
  },
  {
   "cell_type": "code",
   "execution_count": 7,
   "metadata": {},
   "outputs": [
    {
     "data": {
      "image/png": "[encoded data removed]",
      "text/plain": [
       "<matplotlib.figure.Figure at 0x7ffd7db16b38>"
      ]
     },
     "metadata": {},
     "output_type": "display_data"
    }
   ],
   "source": [
    "f1.sel(sSeg = sid)['KWTroutedRunoff'].plot()\n",
    "f2.sel(sSeg = sid)['KWTroutedRunoff'].plot()\n",
    "f3.sel(sSeg = sid)['KWTroutedRunoff'].plot()\n",
    "f4.sel(sSeg = sid)['KWTroutedRunoff'].plot()\n",
    "f5.sel(sSeg = sid)['KWTroutedRunoff'].plot()\n",
    "f6.sel(sSeg = sid)['KWTroutedRunoff'].plot()\n",
    "f7.sel(sSeg = sid)['KWTroutedRunoff'].plot()\n",
    "f8.sel(sSeg = sid)['KWTroutedRunoff'].plot()\n",
    "f9.sel(sSeg = sid)['KWTroutedRunoff'].plot()\n",
    "f10.sel(sSeg = sid)['KWTroutedRunoff'].plot()\n",
    "f11.sel(sSeg = sid)['KWTroutedRunoff'].plot()\n",
    "(obs['cfs'].loc['2017-11-27':'2017-12-03']).plot()\n",
    "plt.show()"
   ]
  },
  {
   "cell_type": "code",
   "execution_count": null,
   "metadata": {},
   "outputs": [],
   "source": []
  }
 ],
 "metadata": {
  "kernelspec": {
   "display_name": "Python 3",
   "language": "python",
   "name": "python3"
  },
  "language_info": {
   "codemirror_mode": {
    "name": "ipython",
    "version": 3
   },
   "file_extension": ".py",
   "mimetype": "text/x-python",
   "name": "python",
   "nbconvert_exporter": "python",
   "pygments_lexer": "ipython3",
   "version": "3.6.3"
  }
 },
 "nbformat": 4,
 "nbformat_minor": 2
}
